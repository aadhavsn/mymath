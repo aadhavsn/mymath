{
  "nbformat": 4,
  "nbformat_minor": 0,
  "metadata": {
    "colab": {
      "provenance": [],
      "authorship_tag": "ABX9TyP2QDHFT/yybGPNUkM81/qx",
      "include_colab_link": true
    },
    "kernelspec": {
      "name": "python3",
      "display_name": "Python 3"
    },
    "language_info": {
      "name": "python"
    }
  },
  "cells": [
    {
      "cell_type": "markdown",
      "metadata": {
        "id": "view-in-github",
        "colab_type": "text"
      },
      "source": [
        "<a href=\"https://colab.research.google.com/github/aadhavsn/mymath/blob/main/all_math_functions.ipynb\" target=\"_parent\"><img src=\"https://colab.research.google.com/assets/colab-badge.svg\" alt=\"Open In Colab\"/></a>"
      ]
    },
    {
      "cell_type": "code",
      "execution_count": 16,
      "metadata": {
        "id": "4WCKjb7cxg9S"
      },
      "outputs": [],
      "source": [
        "import math\n",
        "\n",
        "def add(x, y):\n",
        "    return x + y\n",
        "\n",
        "def subtract(x, y):\n",
        "    return x - y\n",
        "\n",
        "def multiply(x, y):\n",
        "    return x * y\n",
        "\n",
        "def divide(x, y):\n",
        "    if y == 0:\n",
        "        return \"Error: Cannot divide by zero\"\n",
        "    else:\n",
        "        return x / y\n",
        "\n",
        "def compare(x, y):\n",
        "    if x > y:\n",
        "        return f\"{x} is greater than {y}\"\n",
        "    elif x < y:\n",
        "        return f\"{x} is less than {y}\"\n",
        "    else:\n",
        "        return f\"{x} is equal to {y}\"\n",
        "\n",
        "def square_root(x):\n",
        "    return math.sqrt(x)\n",
        "\n",
        "def power(x, y):\n",
        "    return math.pow(x, y)\n",
        "\n",
        "def logarithm(x, base):\n",
        "    return math.log(x, base)\n",
        "\n",
        "def sine(x):\n",
        "    return math.sin(x)\n",
        "\n",
        "def cosine(x):\n",
        "    return math.cos(x)\n",
        "\n",
        "def tangent(x):\n",
        "    return math.tan(x)\n",
        "\n",
        "def factorial(x):\n",
        "    return math.factorial(x)\n",
        "\n",
        "def gcd(x, y):\n",
        "    return math.gcd(x, y)\n",
        "\n",
        "def lcm(x, y):\n",
        "    return (x * y) // math.gcd(x, y)\n",
        "\n",
        "def degrees_to_radians(x):\n",
        "    return math.radians(x)\n",
        "\n",
        "def radians_to_degrees(x):\n",
        "    return math.degrees(x)\n",
        "\n",
        "def ceil(x):\n",
        "    return math.ceil(x)\n",
        "\n",
        "def floor(x):\n",
        "    return math.floor(x)\n"
      ]
    },
    {
      "cell_type": "code",
      "source": [
        "x = 10\n",
        "#x = math.pi / 4\n",
        "y = 5\n",
        "base = 10\n",
        "\n",
        "print(f\"{x} + {y} = {add(x, y)}\")\n",
        "print(f\"{x} - {y} = {subtract(x, y)}\")\n",
        "print(f\"{x} * {y} = {multiply(x, y)}\")\n",
        "print(f\"{x} / {y} = {divide(x, y)}\")\n",
        "\n",
        "print(compare(x, y))\n",
        "\n",
        "print(f\"Square root of {x} = {square_root(x)}\")\n",
        "print(f\"{x} to the power of {y} = {power(x, y)}\")\n",
        "print(f\"Logarithm base {base} of {x} = {logarithm(x, base)}\")\n",
        "\n",
        "print(f\"Sine of {x} = {sine(x)}\")\n",
        "print(f\"Cosine of {x} = {cosine(x)}\")\n",
        "print(f\"Tangent of {x} = {tangent(x)}\")\n",
        "\n",
        "print(f\"Factorial of {x} = {factorial(x)}\")\n",
        "print(f\"Greatest common divisor of {x} and {y} = {gcd(x, y)}\")\n",
        "print(f\"Least common multiple of {x} and {y} = {lcm(x, y)}\")\n",
        "\n",
        "print(f\"{x} degrees in radians = {degrees_to_radians(x)}\")\n",
        "print(f\"{x} radians in degrees = {radians_to_degrees(x)}\")\n",
        "\n",
        "print(f\"The smallest integer greater than or equal to {x} = {ceil(x)}\")\n",
        "print(f\"The largest integer less than or equal to {x} = {floor(x)}\")"
      ],
      "metadata": {
        "colab": {
          "base_uri": "https://localhost:8080/"
        },
        "id": "shZJONhoxnEq",
        "outputId": "77754107-1155-4cc2-8efe-ce2efadfa679"
      },
      "execution_count": 17,
      "outputs": [
        {
          "output_type": "stream",
          "name": "stdout",
          "text": [
            "10 + 5 = 15\n",
            "10 - 5 = 5\n",
            "10 * 5 = 50\n",
            "10 / 5 = 2.0\n",
            "10 is greater than 5\n",
            "Square root of 10 = 3.1622776601683795\n",
            "10 to the power of 5 = 100000.0\n",
            "Logarithm base 10 of 10 = 1.0\n",
            "Sine of 10 = -0.5440211108893698\n",
            "Cosine of 10 = -0.8390715290764524\n",
            "Tangent of 10 = 0.6483608274590866\n",
            "Factorial of 10 = 3628800\n",
            "Greatest common divisor of 10 and 5 = 5\n",
            "Least common multiple of 10 and 5 = 10\n",
            "10 degrees in radians = 0.17453292519943295\n",
            "10 radians in degrees = 572.9577951308232\n",
            "The smallest integer greater than or equal to 10 = 10\n",
            "The largest integer less than or equal to 10 = 10\n"
          ]
        }
      ]
    }
  ]
}