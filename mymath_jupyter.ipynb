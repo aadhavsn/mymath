{
  "nbformat": 4,
  "nbformat_minor": 0,
  "metadata": {
    "colab": {
      "provenance": [],
      "toc_visible": true,
      "authorship_tag": "ABX9TyNJGRjl8GVSI5KK8BDnupjz",
      "include_colab_link": true
    },
    "kernelspec": {
      "name": "python3",
      "display_name": "Python 3"
    },
    "language_info": {
      "name": "python"
    }
  },
  "cells": [
    {
      "cell_type": "markdown",
      "metadata": {
        "id": "view-in-github",
        "colab_type": "text"
      },
      "source": [
        "<a href=\"https://colab.research.google.com/github/aadhavsn/mymath/blob/main/mymath_jupyter.ipynb\" target=\"_parent\"><img src=\"https://colab.research.google.com/assets/colab-badge.svg\" alt=\"Open In Colab\"/></a>"
      ]
    },
    {
      "cell_type": "code",
      "source": [
        "a=798\n",
        "b=6\n",
        "c=a*b\n",
        "d=a+c"
      ],
      "metadata": {
        "id": "j9kjOlxX9D7r"
      },
      "execution_count": 1,
      "outputs": []
    },
    {
      "cell_type": "code",
      "source": [
        "c"
      ],
      "metadata": {
        "id": "2OKanroS90M7",
        "outputId": "957d671d-e295-424c-834a-c7958e88a4a0",
        "colab": {
          "base_uri": "https://localhost:8080/"
        }
      },
      "execution_count": 3,
      "outputs": [
        {
          "output_type": "execute_result",
          "data": {
            "text/plain": [
              "4788"
            ]
          },
          "metadata": {},
          "execution_count": 3
        }
      ]
    },
    {
      "cell_type": "code",
      "source": [
        "d"
      ],
      "metadata": {
        "id": "WlrsVt27-Guf",
        "outputId": "72a24221-a675-4be3-9d34-c7ff52062114",
        "colab": {
          "base_uri": "https://localhost:8080/"
        }
      },
      "execution_count": 5,
      "outputs": [
        {
          "output_type": "execute_result",
          "data": {
            "text/plain": [
              "5586"
            ]
          },
          "metadata": {},
          "execution_count": 5
        }
      ]
    },
    {
      "cell_type": "code",
      "source": [
        "def mul(a,b):\n",
        "  return(a*b)"
      ],
      "metadata": {
        "id": "Mvu03qE3-NTc"
      },
      "execution_count": 7,
      "outputs": []
    },
    {
      "cell_type": "code",
      "source": [
        "mul(3,6)"
      ],
      "metadata": {
        "id": "pQuxT7mn_xcE",
        "outputId": "0628e578-2fb1-4d7a-e4b7-b5bce30410fc",
        "colab": {
          "base_uri": "https://localhost:8080/"
        }
      },
      "execution_count": 8,
      "outputs": [
        {
          "output_type": "execute_result",
          "data": {
            "text/plain": [
              "18"
            ]
          },
          "metadata": {},
          "execution_count": 8
        }
      ]
    },
    {
      "cell_type": "code",
      "source": [
        "mul(7693,9807)"
      ],
      "metadata": {
        "id": "ghnQcXZ9_7LD",
        "outputId": "968c2331-7358-4d4d-e878-23aeb9ed6f99",
        "colab": {
          "base_uri": "https://localhost:8080/"
        }
      },
      "execution_count": 9,
      "outputs": [
        {
          "output_type": "execute_result",
          "data": {
            "text/plain": [
              "75445251"
            ]
          },
          "metadata": {},
          "execution_count": 9
        }
      ]
    },
    {
      "cell_type": "code",
      "source": [
        "mul(3476,12)"
      ],
      "metadata": {
        "id": "UBnjR8eRAILr",
        "outputId": "7e762cfc-c0ef-4cb0-f0a5-392dfb185834",
        "colab": {
          "base_uri": "https://localhost:8080/"
        }
      },
      "execution_count": 10,
      "outputs": [
        {
          "output_type": "execute_result",
          "data": {
            "text/plain": [
              "41712"
            ]
          },
          "metadata": {},
          "execution_count": 10
        }
      ]
    },
    {
      "cell_type": "code",
      "source": [
        "x=30\n",
        "y=3\n"
      ],
      "metadata": {
        "id": "E8nlSO8fB1wM"
      },
      "execution_count": 19,
      "outputs": []
    },
    {
      "cell_type": "code",
      "source": [
        "print(\"aadhav wants to divide \"+x+\" by \"+y)"
      ],
      "metadata": {
        "id": "ExhpEndTCaX8",
        "outputId": "a0c30a9c-41b2-4676-c487-9c9585ec1cc7",
        "colab": {
          "base_uri": "https://localhost:8080/"
        }
      },
      "execution_count": 15,
      "outputs": [
        {
          "output_type": "stream",
          "name": "stdout",
          "text": [
            "aadhav wants to divide 29 by 7\n"
          ]
        }
      ]
    },
    {
      "cell_type": "code",
      "source": [
        "def div(x,y):\n",
        "  return(x/y)"
      ],
      "metadata": {
        "id": "P_4FgU_rDhhb"
      },
      "execution_count": 16,
      "outputs": []
    },
    {
      "cell_type": "code",
      "source": [
        "div(x,y)"
      ],
      "metadata": {
        "id": "7VB7uR8NEJwE",
        "outputId": "752ff315-db03-4e1e-a134-8c6b88a80547",
        "colab": {
          "base_uri": "https://localhost:8080/"
        }
      },
      "execution_count": 20,
      "outputs": [
        {
          "output_type": "execute_result",
          "data": {
            "text/plain": [
              "10.0"
            ]
          },
          "metadata": {},
          "execution_count": 20
        }
      ]
    },
    {
      "cell_type": "code",
      "source": [
        "def add(a,b):\n",
        "  return(a+b)"
      ],
      "metadata": {
        "id": "slFWwyB6Eqjo"
      },
      "execution_count": 21,
      "outputs": []
    },
    {
      "cell_type": "code",
      "source": [
        "add(798,mul(798,6))"
      ],
      "metadata": {
        "id": "lQ_7vRnWFBVR",
        "outputId": "e9953cee-3623-423f-f38c-4981b9ebb7fd",
        "colab": {
          "base_uri": "https://localhost:8080/"
        }
      },
      "execution_count": 22,
      "outputs": [
        {
          "output_type": "execute_result",
          "data": {
            "text/plain": [
              "5586"
            ]
          },
          "metadata": {},
          "execution_count": 22
        }
      ]
    },
    {
      "cell_type": "code",
      "source": [
        "k=798\n",
        "l=6\n",
        "add(k,mul(k,l))"
      ],
      "metadata": {
        "id": "tgYAZI5hFrOR",
        "outputId": "bd670074-12cd-427e-c0b1-80554e100d1b",
        "colab": {
          "base_uri": "https://localhost:8080/"
        }
      },
      "execution_count": 23,
      "outputs": [
        {
          "output_type": "execute_result",
          "data": {
            "text/plain": [
              "5586"
            ]
          },
          "metadata": {},
          "execution_count": 23
        }
      ]
    }
  ]
}